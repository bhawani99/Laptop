{
 "cells": [
  {
   "cell_type": "markdown",
   "id": "5b599554",
   "metadata": {},
   "source": [
    " #  Laptop Price Prediction Model Creation:<br>\n",
    "### This is second part where machine learning model will be created."
   ]
  },
  {
   "cell_type": "markdown",
   "id": "b1019675",
   "metadata": {},
   "source": [
    "## Part 2: Machine Learning:<br>\n",
    "\n",
    "### Model Building and Selection: <br>\n",
    "-  Experiment with various regression algorithm.\n",
    "-  Select the model with the best performance on evaluation metrics.\n",
    "### Model Evaluation: <br>\n",
    "- Employ appropriate metrics to assess model performance.\n",
    "- R-squared (R²): Measures the proportion of variance explained by the model.\n",
    "- Mean Absolute Error (MAE): Average absolute difference between actual and predicted prices.\n",
    "### Model Selection: <br>\n",
    "- Choose the model with the optimal balance of accuracy and interpretability.\n",
    "- Consider factors like model complexity, prediction accuracy, and practical implications.\n",
    "### Final Model: <br>\n",
    "- Train the selected model on the entire dataset.\n",
    "- Use the final model for future price predictions."
   ]
  },
  {
   "cell_type": "code",
   "execution_count": 1,
   "id": "5fcd90ef",
   "metadata": {},
   "outputs": [],
   "source": [
    "# Importing all the necessary libraries \n",
    "import numpy as np\n",
    "import pandas as pd\n",
    "import matplotlib.pyplot as plt\n",
    "import seaborn as sns"
   ]
  },
  {
   "cell_type": "code",
   "execution_count": 2,
   "id": "11d7810d",
   "metadata": {},
   "outputs": [],
   "source": [
    "from sklearn.model_selection import train_test_split\n",
    "from sklearn.compose import ColumnTransformer\n",
    "from sklearn.preprocessing import OneHotEncoder\n",
    "from sklearn.linear_model import LinearRegression"
   ]
  },
  {
   "cell_type": "code",
   "execution_count": 3,
   "id": "c3e441cb",
   "metadata": {},
   "outputs": [],
   "source": [
    "from sklearn.metrics import r2_score,mean_absolute_error"
   ]
  },
  {
   "cell_type": "code",
   "execution_count": 4,
   "id": "f57be127",
   "metadata": {},
   "outputs": [],
   "source": [
    "from sklearn.linear_model import LinearRegression,Ridge,Lasso\n",
    "from sklearn.neighbors import KNeighborsRegressor\n",
    "from sklearn.tree import DecisionTreeRegressor\n",
    "from sklearn.ensemble import RandomForestRegressor,GradientBoostingRegressor,AdaBoostRegressor,ExtraTreesRegressor\n",
    "from sklearn.svm import SVR\n",
    "from xgboost import XGBRegressor\n",
    "from sklearn.pipeline import Pipeline"
   ]
  },
  {
   "cell_type": "code",
   "execution_count": 5,
   "id": "bd0fe23e",
   "metadata": {},
   "outputs": [],
   "source": [
    "import warnings\n",
    "warnings.filterwarnings('ignore')"
   ]
  },
  {
   "cell_type": "code",
   "execution_count": 6,
   "id": "adbabd19",
   "metadata": {},
   "outputs": [],
   "source": [
    "df= pd.read_csv(\"D:\\ML_projects\\Laptop_price\\dataset\\laptop_clean_data.csv\")# reading the dataset"
   ]
  },
  {
   "cell_type": "code",
   "execution_count": 7,
   "id": "edf6d93b",
   "metadata": {},
   "outputs": [
    {
     "data": {
      "text/html": [
       "<div>\n",
       "<style scoped>\n",
       "    .dataframe tbody tr th:only-of-type {\n",
       "        vertical-align: middle;\n",
       "    }\n",
       "\n",
       "    .dataframe tbody tr th {\n",
       "        vertical-align: top;\n",
       "    }\n",
       "\n",
       "    .dataframe thead th {\n",
       "        text-align: right;\n",
       "    }\n",
       "</style>\n",
       "<table border=\"1\" class=\"dataframe\">\n",
       "  <thead>\n",
       "    <tr style=\"text-align: right;\">\n",
       "      <th></th>\n",
       "      <th>name</th>\n",
       "      <th>os</th>\n",
       "      <th>processor</th>\n",
       "      <th>generation</th>\n",
       "      <th>ram</th>\n",
       "      <th>ssd</th>\n",
       "      <th>hdd</th>\n",
       "      <th>display</th>\n",
       "      <th>price</th>\n",
       "    </tr>\n",
       "  </thead>\n",
       "  <tbody>\n",
       "    <tr>\n",
       "      <th>0</th>\n",
       "      <td>lenovo</td>\n",
       "      <td>windows 11</td>\n",
       "      <td>intel core i5</td>\n",
       "      <td>11</td>\n",
       "      <td>16</td>\n",
       "      <td>512</td>\n",
       "      <td>0</td>\n",
       "      <td>15.6</td>\n",
       "      <td>62990</td>\n",
       "    </tr>\n",
       "    <tr>\n",
       "      <th>1</th>\n",
       "      <td>lenovo</td>\n",
       "      <td>windows 11</td>\n",
       "      <td>intel core i3</td>\n",
       "      <td>11</td>\n",
       "      <td>8</td>\n",
       "      <td>256</td>\n",
       "      <td>1</td>\n",
       "      <td>15.6</td>\n",
       "      <td>37500</td>\n",
       "    </tr>\n",
       "    <tr>\n",
       "      <th>2</th>\n",
       "      <td>asus</td>\n",
       "      <td>windows 11</td>\n",
       "      <td>intel core i5</td>\n",
       "      <td>10</td>\n",
       "      <td>8</td>\n",
       "      <td>512</td>\n",
       "      <td>0</td>\n",
       "      <td>15.6</td>\n",
       "      <td>49990</td>\n",
       "    </tr>\n",
       "    <tr>\n",
       "      <th>3</th>\n",
       "      <td>asus</td>\n",
       "      <td>windows 11</td>\n",
       "      <td>intel core i3</td>\n",
       "      <td>10</td>\n",
       "      <td>8</td>\n",
       "      <td>512</td>\n",
       "      <td>0</td>\n",
       "      <td>15.6</td>\n",
       "      <td>33990</td>\n",
       "    </tr>\n",
       "    <tr>\n",
       "      <th>4</th>\n",
       "      <td>lenovo</td>\n",
       "      <td>other</td>\n",
       "      <td>amd other</td>\n",
       "      <td>0</td>\n",
       "      <td>4</td>\n",
       "      <td>256</td>\n",
       "      <td>0</td>\n",
       "      <td>14.0</td>\n",
       "      <td>18990</td>\n",
       "    </tr>\n",
       "  </tbody>\n",
       "</table>\n",
       "</div>"
      ],
      "text/plain": [
       "     name          os      processor  generation  ram  ssd  hdd  display  \\\n",
       "0  lenovo  windows 11  intel core i5          11   16  512    0     15.6   \n",
       "1  lenovo  windows 11  intel core i3          11    8  256    1     15.6   \n",
       "2    asus  windows 11  intel core i5          10    8  512    0     15.6   \n",
       "3    asus  windows 11  intel core i3          10    8  512    0     15.6   \n",
       "4  lenovo       other      amd other           0    4  256    0     14.0   \n",
       "\n",
       "   price  \n",
       "0  62990  \n",
       "1  37500  \n",
       "2  49990  \n",
       "3  33990  \n",
       "4  18990  "
      ]
     },
     "execution_count": 7,
     "metadata": {},
     "output_type": "execute_result"
    }
   ],
   "source": [
    "df.head()"
   ]
  },
  {
   "cell_type": "code",
   "execution_count": 8,
   "id": "9bfc1d09",
   "metadata": {},
   "outputs": [
    {
     "name": "stdout",
     "output_type": "stream",
     "text": [
      "<class 'pandas.core.frame.DataFrame'>\n",
      "RangeIndex: 747 entries, 0 to 746\n",
      "Data columns (total 9 columns):\n",
      " #   Column      Non-Null Count  Dtype  \n",
      "---  ------      --------------  -----  \n",
      " 0   name        747 non-null    object \n",
      " 1   os          747 non-null    object \n",
      " 2   processor   747 non-null    object \n",
      " 3   generation  747 non-null    int64  \n",
      " 4   ram         747 non-null    int64  \n",
      " 5   ssd         747 non-null    int64  \n",
      " 6   hdd         747 non-null    int64  \n",
      " 7   display     747 non-null    float64\n",
      " 8   price       747 non-null    int64  \n",
      "dtypes: float64(1), int64(5), object(3)\n",
      "memory usage: 52.7+ KB\n"
     ]
    }
   ],
   "source": [
    "df.info()"
   ]
  },
  {
   "cell_type": "code",
   "execution_count": 9,
   "id": "1c822e70",
   "metadata": {},
   "outputs": [
    {
     "data": {
      "text/plain": [
       "name          0\n",
       "os            0\n",
       "processor     0\n",
       "generation    0\n",
       "ram           0\n",
       "ssd           0\n",
       "hdd           0\n",
       "display       0\n",
       "price         0\n",
       "dtype: int64"
      ]
     },
     "execution_count": 9,
     "metadata": {},
     "output_type": "execute_result"
    }
   ],
   "source": [
    "df.isnull().sum() # checking null values in the dataset"
   ]
  },
  {
   "cell_type": "code",
   "execution_count": 10,
   "id": "992fe779",
   "metadata": {},
   "outputs": [
    {
     "data": {
      "text/plain": [
       "0"
      ]
     },
     "execution_count": 10,
     "metadata": {},
     "output_type": "execute_result"
    }
   ],
   "source": [
    "df.duplicated().sum() # checking duplicate values"
   ]
  },
  {
   "cell_type": "markdown",
   "id": "73954749",
   "metadata": {},
   "source": [
    "#### Data is cleaned, no null and duplicate values "
   ]
  },
  {
   "cell_type": "markdown",
   "id": "229d2504",
   "metadata": {},
   "source": [
    "## Model Building and Selection <br> \n",
    "### Data Preparation:<br>\n",
    "- #### With the data cleaned, we're ready to proceed with model building.\n"
   ]
  },
  {
   "cell_type": "markdown",
   "id": "64458940",
   "metadata": {},
   "source": [
    "### Train-Test Split: <br> \n",
    "- #### The dataset is divided into training and test sets for model training and evaluation, respectively."
   ]
  },
  {
   "cell_type": "code",
   "execution_count": 11,
   "id": "9235d3f1",
   "metadata": {},
   "outputs": [],
   "source": [
    "# Split into train and test sets\n",
    "x = df.drop(columns=['price'])\n",
    "y = np.log(df['price'])"
   ]
  },
  {
   "cell_type": "code",
   "execution_count": 12,
   "id": "7ba8321a",
   "metadata": {},
   "outputs": [],
   "source": [
    "X_train,X_test,y_train,y_test = train_test_split(x,y,test_size=0.15,random_state=2)"
   ]
  },
  {
   "cell_type": "code",
   "execution_count": 13,
   "id": "dfbb5049",
   "metadata": {},
   "outputs": [
    {
     "data": {
      "text/html": [
       "<div>\n",
       "<style scoped>\n",
       "    .dataframe tbody tr th:only-of-type {\n",
       "        vertical-align: middle;\n",
       "    }\n",
       "\n",
       "    .dataframe tbody tr th {\n",
       "        vertical-align: top;\n",
       "    }\n",
       "\n",
       "    .dataframe thead th {\n",
       "        text-align: right;\n",
       "    }\n",
       "</style>\n",
       "<table border=\"1\" class=\"dataframe\">\n",
       "  <thead>\n",
       "    <tr style=\"text-align: right;\">\n",
       "      <th></th>\n",
       "      <th>name</th>\n",
       "      <th>os</th>\n",
       "      <th>processor</th>\n",
       "      <th>generation</th>\n",
       "      <th>ram</th>\n",
       "      <th>ssd</th>\n",
       "      <th>hdd</th>\n",
       "      <th>display</th>\n",
       "    </tr>\n",
       "  </thead>\n",
       "  <tbody>\n",
       "    <tr>\n",
       "      <th>666</th>\n",
       "      <td>dell</td>\n",
       "      <td>windows 11</td>\n",
       "      <td>intel core i3</td>\n",
       "      <td>12</td>\n",
       "      <td>8</td>\n",
       "      <td>512</td>\n",
       "      <td>0</td>\n",
       "      <td>15.6</td>\n",
       "    </tr>\n",
       "    <tr>\n",
       "      <th>240</th>\n",
       "      <td>msi</td>\n",
       "      <td>windows 10</td>\n",
       "      <td>intel core i7</td>\n",
       "      <td>11</td>\n",
       "      <td>16</td>\n",
       "      <td>1024</td>\n",
       "      <td>0</td>\n",
       "      <td>15.6</td>\n",
       "    </tr>\n",
       "    <tr>\n",
       "      <th>452</th>\n",
       "      <td>acer</td>\n",
       "      <td>windows 10</td>\n",
       "      <td>intel core i5</td>\n",
       "      <td>8</td>\n",
       "      <td>8</td>\n",
       "      <td>512</td>\n",
       "      <td>0</td>\n",
       "      <td>15.6</td>\n",
       "    </tr>\n",
       "    <tr>\n",
       "      <th>458</th>\n",
       "      <td>asus</td>\n",
       "      <td>windows 11</td>\n",
       "      <td>amd ryzen 9</td>\n",
       "      <td>10</td>\n",
       "      <td>16</td>\n",
       "      <td>512</td>\n",
       "      <td>0</td>\n",
       "      <td>16.6</td>\n",
       "    </tr>\n",
       "    <tr>\n",
       "      <th>575</th>\n",
       "      <td>asus</td>\n",
       "      <td>windows 11</td>\n",
       "      <td>intel core i3</td>\n",
       "      <td>11</td>\n",
       "      <td>8</td>\n",
       "      <td>256</td>\n",
       "      <td>1</td>\n",
       "      <td>15.6</td>\n",
       "    </tr>\n",
       "    <tr>\n",
       "      <th>...</th>\n",
       "      <td>...</td>\n",
       "      <td>...</td>\n",
       "      <td>...</td>\n",
       "      <td>...</td>\n",
       "      <td>...</td>\n",
       "      <td>...</td>\n",
       "      <td>...</td>\n",
       "      <td>...</td>\n",
       "    </tr>\n",
       "    <tr>\n",
       "      <th>534</th>\n",
       "      <td>asus</td>\n",
       "      <td>windows 10</td>\n",
       "      <td>intel core i3</td>\n",
       "      <td>10</td>\n",
       "      <td>4</td>\n",
       "      <td>0</td>\n",
       "      <td>1</td>\n",
       "      <td>14.1</td>\n",
       "    </tr>\n",
       "    <tr>\n",
       "      <th>584</th>\n",
       "      <td>hp</td>\n",
       "      <td>windows 11</td>\n",
       "      <td>other</td>\n",
       "      <td>0</td>\n",
       "      <td>16</td>\n",
       "      <td>1024</td>\n",
       "      <td>0</td>\n",
       "      <td>16.1</td>\n",
       "    </tr>\n",
       "    <tr>\n",
       "      <th>493</th>\n",
       "      <td>lenovo</td>\n",
       "      <td>windows 11</td>\n",
       "      <td>intel core i7</td>\n",
       "      <td>11</td>\n",
       "      <td>32</td>\n",
       "      <td>1024</td>\n",
       "      <td>0</td>\n",
       "      <td>16.0</td>\n",
       "    </tr>\n",
       "    <tr>\n",
       "      <th>527</th>\n",
       "      <td>acer</td>\n",
       "      <td>windows 11</td>\n",
       "      <td>other</td>\n",
       "      <td>0</td>\n",
       "      <td>8</td>\n",
       "      <td>512</td>\n",
       "      <td>0</td>\n",
       "      <td>15.6</td>\n",
       "    </tr>\n",
       "    <tr>\n",
       "      <th>168</th>\n",
       "      <td>dell</td>\n",
       "      <td>windows 11</td>\n",
       "      <td>intel core i5</td>\n",
       "      <td>12</td>\n",
       "      <td>8</td>\n",
       "      <td>512</td>\n",
       "      <td>0</td>\n",
       "      <td>14.0</td>\n",
       "    </tr>\n",
       "  </tbody>\n",
       "</table>\n",
       "<p>634 rows × 8 columns</p>\n",
       "</div>"
      ],
      "text/plain": [
       "       name          os      processor  generation  ram   ssd  hdd  display\n",
       "666    dell  windows 11  intel core i3          12    8   512    0     15.6\n",
       "240     msi  windows 10  intel core i7          11   16  1024    0     15.6\n",
       "452    acer  windows 10  intel core i5           8    8   512    0     15.6\n",
       "458    asus  windows 11    amd ryzen 9          10   16   512    0     16.6\n",
       "575    asus  windows 11  intel core i3          11    8   256    1     15.6\n",
       "..      ...         ...            ...         ...  ...   ...  ...      ...\n",
       "534    asus  windows 10  intel core i3          10    4     0    1     14.1\n",
       "584      hp  windows 11          other           0   16  1024    0     16.1\n",
       "493  lenovo  windows 11  intel core i7          11   32  1024    0     16.0\n",
       "527    acer  windows 11          other           0    8   512    0     15.6\n",
       "168    dell  windows 11  intel core i5          12    8   512    0     14.0\n",
       "\n",
       "[634 rows x 8 columns]"
      ]
     },
     "execution_count": 13,
     "metadata": {},
     "output_type": "execute_result"
    }
   ],
   "source": [
    "X_train # x traning dataset "
   ]
  },
  {
   "cell_type": "code",
   "execution_count": 14,
   "id": "51305738",
   "metadata": {},
   "outputs": [
    {
     "data": {
      "text/plain": [
       "666    11.055767\n",
       "240    11.878263\n",
       "452    11.517913\n",
       "458    11.502774\n",
       "575    10.736179\n",
       "         ...    \n",
       "534    10.330388\n",
       "584    11.820410\n",
       "493    12.170394\n",
       "527    11.001933\n",
       "168    11.245294\n",
       "Name: price, Length: 634, dtype: float64"
      ]
     },
     "execution_count": 14,
     "metadata": {},
     "output_type": "execute_result"
    }
   ],
   "source": [
    "y_train # y traning dataset "
   ]
  },
  {
   "cell_type": "markdown",
   "id": "194805f2",
   "metadata": {},
   "source": [
    "### Model Evaluation: <br>\n",
    "- #### Various models are evaluated using R-squared score and Mean Absolute Error (MAE) to determine their performance."
   ]
  },
  {
   "cell_type": "markdown",
   "id": "c2500175",
   "metadata": {},
   "source": [
    "### Linear regression"
   ]
  },
  {
   "cell_type": "code",
   "execution_count": 15,
   "id": "cda3bb62",
   "metadata": {},
   "outputs": [
    {
     "name": "stdout",
     "output_type": "stream",
     "text": [
      "R2 score 0.770803396783333\n",
      "MAE 0.2248709401269258\n"
     ]
    }
   ],
   "source": [
    "# step1 doing column transformation using one-hot-encoder in wihch dealing with categorical data  \n",
    "step1 = ColumnTransformer(transformers=[\n",
    "    ('col_tnf',OneHotEncoder(sparse_output=False,drop='first',handle_unknown='ignore'),[0,1,2])\n",
    "],remainder='passthrough')\n",
    "\n",
    "# Define regression model\n",
    "step2 = LinearRegression() \n",
    "\n",
    "# Creating a pipeline\n",
    "pipe = Pipeline([\n",
    "    ('step1',step1),\n",
    "    ('step2',step2)\n",
    "])\n",
    "\n",
    "#Fitting the pipeline to the training data \n",
    "pipe.fit(X_train,y_train)\n",
    "\n",
    "# predictions on the test data\n",
    "y_pred = pipe.predict(X_test)\n",
    "\n",
    "# Evaluate model performance\n",
    "print('R2 score',r2_score(y_test,y_pred))\n",
    "print('MAE',mean_absolute_error(y_test,y_pred))"
   ]
  },
  {
   "cell_type": "markdown",
   "id": "b23dfa89",
   "metadata": {},
   "source": [
    "### Ridge Regression"
   ]
  },
  {
   "cell_type": "code",
   "execution_count": 16,
   "id": "c6b88a1f",
   "metadata": {},
   "outputs": [
    {
     "name": "stdout",
     "output_type": "stream",
     "text": [
      "R2 score 0.7516917882891939\n",
      "MAE 0.22476906093886512\n"
     ]
    }
   ],
   "source": [
    "step1 = ColumnTransformer(transformers=[\n",
    "    ('col_tnf',OneHotEncoder(sparse_output=False,drop='first',handle_unknown='ignore'),[0,1,2])\n",
    "],remainder='passthrough')\n",
    "\n",
    "step2 = Ridge(alpha=10)\n",
    "\n",
    "pipe = Pipeline([\n",
    "    ('step1',step1),\n",
    "    ('step2',step2)\n",
    "])\n",
    "\n",
    "pipe.fit(X_train,y_train)\n",
    "\n",
    "y_pred = pipe.predict(X_test)\n",
    "\n",
    "print('R2 score',r2_score(y_test,y_pred))\n",
    "print('MAE',mean_absolute_error(y_test,y_pred))"
   ]
  },
  {
   "cell_type": "markdown",
   "id": "bb2a8ebe",
   "metadata": {},
   "source": [
    "### Lasso Regression"
   ]
  },
  {
   "cell_type": "code",
   "execution_count": 17,
   "id": "9f92db9e",
   "metadata": {},
   "outputs": [
    {
     "name": "stdout",
     "output_type": "stream",
     "text": [
      "R2 score 0.7646587370364972\n",
      "MAE 0.22050761897362012\n"
     ]
    }
   ],
   "source": [
    "step1 = ColumnTransformer(transformers=[\n",
    "    ('col_tnf',OneHotEncoder(sparse_output=False,drop='first',handle_unknown='ignore'),[0,1,2])\n",
    "],remainder='passthrough')\n",
    "\n",
    "step2 = Lasso(alpha=0.001)\n",
    "\n",
    "pipe = Pipeline([\n",
    "    ('step1',step1),\n",
    "    ('step2',step2)\n",
    "])\n",
    "\n",
    "pipe.fit(X_train,y_train)\n",
    "\n",
    "y_pred = pipe.predict(X_test)\n",
    "\n",
    "print('R2 score',r2_score(y_test,y_pred))\n",
    "print('MAE',mean_absolute_error(y_test,y_pred))"
   ]
  },
  {
   "cell_type": "markdown",
   "id": "3e32f88e",
   "metadata": {},
   "source": [
    "### KNN"
   ]
  },
  {
   "cell_type": "code",
   "execution_count": 19,
   "id": "c37610a1",
   "metadata": {},
   "outputs": [
    {
     "name": "stdout",
     "output_type": "stream",
     "text": [
      "R2 score 0.7084232522665916\n",
      "MAE 0.2264565738384703\n"
     ]
    }
   ],
   "source": [
    "import warnings \n",
    "step1 = ColumnTransformer(transformers=[\n",
    "    ('col_tnf',OneHotEncoder(sparse_output=False,drop='first',handle_unknown='ignore'),[0,1,2])\n",
    "],remainder='passthrough')\n",
    "\n",
    "step2 = KNeighborsRegressor(n_neighbors=3)\n",
    "\n",
    "pipe = Pipeline([\n",
    "    ('step1',step1),\n",
    "    ('step2',step2)\n",
    "])\n",
    "\n",
    "pipe.fit(X_train,y_train)\n",
    "\n",
    "y_pred = pipe.predict(X_test)\n",
    "\n",
    "print('R2 score',r2_score(y_test,y_pred))\n",
    "print('MAE',mean_absolute_error(y_test,y_pred))"
   ]
  },
  {
   "cell_type": "markdown",
   "id": "acaec0a3",
   "metadata": {},
   "source": [
    "### Decision Tree Regressor"
   ]
  },
  {
   "cell_type": "code",
   "execution_count": 20,
   "id": "4395ae2f",
   "metadata": {},
   "outputs": [
    {
     "name": "stdout",
     "output_type": "stream",
     "text": [
      "R2 score 0.7651047901619558\n",
      "MAE 0.2135678933873926\n"
     ]
    }
   ],
   "source": [
    "step1 = ColumnTransformer(transformers=[\n",
    "    ('col_tnf',OneHotEncoder(sparse_output=False,drop='first',handle_unknown='ignore'),[0,1,2])\n",
    "],remainder='passthrough')\n",
    "\n",
    "step2 = DecisionTreeRegressor(max_depth=8)\n",
    "\n",
    "pipe = Pipeline([\n",
    "    ('step1',step1),\n",
    "    ('step2',step2)\n",
    "])\n",
    "\n",
    "pipe.fit(X_train,y_train)\n",
    "\n",
    "y_pred = pipe.predict(X_test)\n",
    "\n",
    "print('R2 score',r2_score(y_test,y_pred))\n",
    "print('MAE',mean_absolute_error(y_test,y_pred))"
   ]
  },
  {
   "cell_type": "markdown",
   "id": "f42cfbf6",
   "metadata": {},
   "source": [
    "### SVM"
   ]
  },
  {
   "cell_type": "code",
   "execution_count": 22,
   "id": "b11d88bd",
   "metadata": {},
   "outputs": [
    {
     "name": "stdout",
     "output_type": "stream",
     "text": [
      "R2 score 0.29437082142296744\n",
      "MAE 0.2537603621856415\n"
     ]
    }
   ],
   "source": [
    "step1 = ColumnTransformer(transformers=[\n",
    "    ('col_tnf',OneHotEncoder(sparse_output=False,drop='first',handle_unknown='ignore'),[0,1,2])\n",
    "],remainder='passthrough')\n",
    "\n",
    "step2 = SVR(kernel='rbf',C=10000,epsilon=0.1)\n",
    "\n",
    "pipe = Pipeline([\n",
    "    ('step1',step1),\n",
    "    ('step2',step2)\n",
    "])\n",
    "\n",
    "pipe.fit(X_train,y_train)\n",
    "\n",
    "y_pred = pipe.predict(X_test)\n",
    "\n",
    "print('R2 score',r2_score(y_test,y_pred))\n",
    "print('MAE',mean_absolute_error(y_test,y_pred))"
   ]
  },
  {
   "cell_type": "markdown",
   "id": "1047e4a5",
   "metadata": {},
   "source": [
    "### Random Forest Regressor"
   ]
  },
  {
   "cell_type": "code",
   "execution_count": 23,
   "id": "017f5823",
   "metadata": {},
   "outputs": [
    {
     "name": "stdout",
     "output_type": "stream",
     "text": [
      "R2 score 0.8392024467055624\n",
      "MAE 0.18655242913859904\n"
     ]
    }
   ],
   "source": [
    "step1 = ColumnTransformer(transformers=[\n",
    "    ('col_tnf',OneHotEncoder(sparse_output=False,drop='first',handle_unknown='ignore'),[0,1,2])\n",
    "],remainder='passthrough')\n",
    "\n",
    "step2 = RandomForestRegressor(n_estimators=100,\n",
    "                              random_state=3,\n",
    "                              max_samples=0.5,\n",
    "                              max_features=0.75,\n",
    "                              max_depth=15)\n",
    "\n",
    "pipe = Pipeline([\n",
    "    ('step1',step1),\n",
    "    ('step2',step2)\n",
    "])\n",
    "\n",
    "pipe.fit(X_train,y_train)\n",
    "\n",
    "y_pred = pipe.predict(X_test)\n",
    "\n",
    "print('R2 score',r2_score(y_test,y_pred))\n",
    "print('MAE',mean_absolute_error(y_test,y_pred))"
   ]
  },
  {
   "cell_type": "markdown",
   "id": "be7838a1",
   "metadata": {},
   "source": [
    "### ExtraTrees Regressor"
   ]
  },
  {
   "cell_type": "code",
   "execution_count": 24,
   "id": "8aefbefd",
   "metadata": {},
   "outputs": [
    {
     "name": "stdout",
     "output_type": "stream",
     "text": [
      "R2 score 0.8364093507275443\n",
      "MAE 0.18725812090368044\n"
     ]
    }
   ],
   "source": [
    "step1 = ColumnTransformer(transformers=[\n",
    "    ('col_tnf',OneHotEncoder(sparse_output=False,drop='first',handle_unknown='ignore'),[0,1,2])\n",
    "],remainder='passthrough')\n",
    "\n",
    "step2 = ExtraTreesRegressor(n_estimators=100,\n",
    "                              random_state=3,\n",
    "                              max_samples=0.5,\n",
    "                              max_features=0.75,\n",
    "                              max_depth=15,\n",
    "                              bootstrap=True)\n",
    "\n",
    "pipe = Pipeline([\n",
    "    ('step1',step1),\n",
    "    ('step2',step2)\n",
    "])\n",
    "\n",
    "pipe.fit(X_train,y_train)\n",
    "\n",
    "y_pred = pipe.predict(X_test)\n",
    "\n",
    "print('R2 score',r2_score(y_test,y_pred))\n",
    "print('MAE',mean_absolute_error(y_test,y_pred))"
   ]
  },
  {
   "cell_type": "markdown",
   "id": "31141636",
   "metadata": {},
   "source": [
    "### AdaBoost Regressor"
   ]
  },
  {
   "cell_type": "code",
   "execution_count": 25,
   "id": "efc10cef",
   "metadata": {},
   "outputs": [
    {
     "name": "stdout",
     "output_type": "stream",
     "text": [
      "R2 score 0.7848534789562376\n",
      "MAE 0.2084170647585874\n"
     ]
    }
   ],
   "source": [
    "step1 = ColumnTransformer(transformers=[\n",
    "    ('col_tnf',OneHotEncoder(sparse_output=False,drop='first',handle_unknown='ignore'),[0,1,2])\n",
    "],remainder='passthrough')\n",
    "\n",
    "step2 = AdaBoostRegressor(n_estimators=15,learning_rate=1.0)\n",
    "\n",
    "pipe = Pipeline([\n",
    "    ('step1',step1),\n",
    "    ('step2',step2)\n",
    "])\n",
    "\n",
    "pipe.fit(X_train,y_train)\n",
    "\n",
    "y_pred = pipe.predict(X_test)\n",
    "\n",
    "print('R2 score',r2_score(y_test,y_pred))\n",
    "print('MAE',mean_absolute_error(y_test,y_pred))"
   ]
  },
  {
   "cell_type": "markdown",
   "id": "6ec47ae8",
   "metadata": {},
   "source": [
    "### Gradient Boost Regressor"
   ]
  },
  {
   "cell_type": "code",
   "execution_count": 26,
   "id": "81d18b16",
   "metadata": {},
   "outputs": [
    {
     "name": "stdout",
     "output_type": "stream",
     "text": [
      "R2 score 0.8366061248566274\n",
      "MAE 0.18253265810439087\n"
     ]
    }
   ],
   "source": [
    "step1 = ColumnTransformer(transformers=[\n",
    "    ('col_tnf',OneHotEncoder(sparse_output=False,drop='first',handle_unknown='ignore'),[0,1,2])\n",
    "],remainder='passthrough')\n",
    "\n",
    "step2 = GradientBoostingRegressor(n_estimators=500)\n",
    "\n",
    "pipe = Pipeline([\n",
    "    ('step1',step1),\n",
    "    ('step2',step2)\n",
    "])\n",
    "\n",
    "pipe.fit(X_train,y_train)\n",
    "\n",
    "y_pred = pipe.predict(X_test)\n",
    "\n",
    "print('R2 score',r2_score(y_test,y_pred))\n",
    "print('MAE',mean_absolute_error(y_test,y_pred))"
   ]
  },
  {
   "cell_type": "markdown",
   "id": "43cfb6e8",
   "metadata": {},
   "source": [
    "### XgBoost Regressor"
   ]
  },
  {
   "cell_type": "code",
   "execution_count": 27,
   "id": "52ecbe52",
   "metadata": {},
   "outputs": [
    {
     "name": "stdout",
     "output_type": "stream",
     "text": [
      "R2 score 0.8227712848745721\n",
      "MAE 0.19409950203041332\n"
     ]
    }
   ],
   "source": [
    "step1 = ColumnTransformer(transformers=[\n",
    "    ('col_tnf',OneHotEncoder(sparse_output=False,drop='first',handle_unknown='ignore'),[0,1,2])\n",
    "],remainder='passthrough')\n",
    "\n",
    "step2 = XGBRegressor(n_estimators=45,max_depth=5,learning_rate=0.5)\n",
    "\n",
    "pipe = Pipeline([\n",
    "    ('step1',step1),\n",
    "    ('step2',step2)\n",
    "])\n",
    "\n",
    "pipe.fit(X_train,y_train)\n",
    "\n",
    "y_pred = pipe.predict(X_test)\n",
    "\n",
    "print('R2 score',r2_score(y_test,y_pred))\n",
    "print('MAE',mean_absolute_error(y_test,y_pred))"
   ]
  },
  {
   "cell_type": "markdown",
   "id": "e78ae000",
   "metadata": {},
   "source": [
    "### Using Ensemble techniques "
   ]
  },
  {
   "cell_type": "markdown",
   "id": "c2e7d99e",
   "metadata": {},
   "source": [
    "### Voting Regressor"
   ]
  },
  {
   "cell_type": "code",
   "execution_count": 28,
   "id": "9a30903a",
   "metadata": {},
   "outputs": [
    {
     "name": "stdout",
     "output_type": "stream",
     "text": [
      "R2 score 0.8478469010117716\n",
      "MAE 0.17881489551351407\n"
     ]
    }
   ],
   "source": [
    "from sklearn.ensemble import VotingRegressor,StackingRegressor\n",
    "\n",
    "step1 = ColumnTransformer(transformers=[\n",
    "    ('col_tnf',OneHotEncoder(sparse_output=False,drop='first',handle_unknown='ignore'),[0,1,2])\n",
    "],remainder='passthrough')\n",
    "\n",
    "\n",
    "rf = RandomForestRegressor(n_estimators=350,random_state=3,max_samples=0.5,max_features=0.75,max_depth=15,bootstrap=True)\n",
    "gbdt = GradientBoostingRegressor(n_estimators=100,max_features=0.5)\n",
    "xgb = XGBRegressor(n_estimators=25,learning_rate=0.3,max_depth=5)\n",
    "et = ExtraTreesRegressor(n_estimators=100,random_state=3,max_samples=0.5,max_features=0.75,max_depth=10,bootstrap=True)\n",
    "\n",
    "step2 = VotingRegressor([('rf', rf), ('gbdt', gbdt), ('xgb',xgb), ('et',et)],weights=[5,1,1,1])\n",
    "\n",
    "pipe = Pipeline([\n",
    "    ('step1',step1),\n",
    "    ('step2',step2)\n",
    "])\n",
    "\n",
    "pipe.fit(X_train,y_train)\n",
    "\n",
    "y_pred = pipe.predict(X_test)\n",
    "\n",
    "print('R2 score',r2_score(y_test,y_pred))\n",
    "print('MAE',mean_absolute_error(y_test,y_pred))"
   ]
  },
  {
   "cell_type": "markdown",
   "id": "4247c241",
   "metadata": {},
   "source": [
    "### Stacking Regressor"
   ]
  },
  {
   "cell_type": "code",
   "execution_count": 29,
   "id": "aacc966f",
   "metadata": {},
   "outputs": [
    {
     "name": "stdout",
     "output_type": "stream",
     "text": [
      "R2 score 0.8358685420229923\n",
      "MAE 0.1805257436195798\n"
     ]
    }
   ],
   "source": [
    "step1 = ColumnTransformer(transformers=[\n",
    "    ('col_tnf',OneHotEncoder(sparse_output=False,drop='first',handle_unknown='ignore'),[0,1,2])\n",
    "],remainder='passthrough')\n",
    "\n",
    "\n",
    "estimators = [\n",
    "    ('rf', RandomForestRegressor(n_estimators=350,random_state=3,max_samples=0.5,max_features=0.75,max_depth=15)),\n",
    "    ('gbdt',GradientBoostingRegressor(n_estimators=100,max_features=0.5)),\n",
    "    ('xgb', XGBRegressor(n_estimators=25,learning_rate=0.3,max_depth=5))\n",
    "]\n",
    "\n",
    "step2 = StackingRegressor(estimators=estimators, final_estimator=Ridge(alpha=100))\n",
    "\n",
    "pipe = Pipeline([\n",
    "    ('step1',step1),\n",
    "    ('step2',step2)\n",
    "])\n",
    "\n",
    "pipe.fit(X_train,y_train)\n",
    "\n",
    "y_pred = pipe.predict(X_test)\n",
    "\n",
    "print('R2 score',r2_score(y_test,y_pred))\n",
    "print('MAE',mean_absolute_error(y_test,y_pred))"
   ]
  },
  {
   "cell_type": "markdown",
   "id": "827fd789",
   "metadata": {},
   "source": [
    "### Model Selection: \n",
    "    - Voting Regressor, an ensemble meta-estimator, achieved performance with an R-squared score of 0.847 and MAE of 0.1787\n",
    "    - Random Forest Regressor achieved the second-best performance with an R-squared score of 0.839 and MAE of 0.1833."
   ]
  },
  {
   "cell_type": "markdown",
   "id": "d90230ef",
   "metadata": {},
   "source": [
    "### Final Model:\n",
    "    - We've selected Voting Regressor as the final model due to its ensemble approach and best R-squared score."
   ]
  },
  {
   "cell_type": "code",
   "execution_count": 30,
   "id": "ad586802",
   "metadata": {},
   "outputs": [
    {
     "data": {
      "text/html": [
       "<style>#sk-container-id-1 {color: black;}#sk-container-id-1 pre{padding: 0;}#sk-container-id-1 div.sk-toggleable {background-color: white;}#sk-container-id-1 label.sk-toggleable__label {cursor: pointer;display: block;width: 100%;margin-bottom: 0;padding: 0.3em;box-sizing: border-box;text-align: center;}#sk-container-id-1 label.sk-toggleable__label-arrow:before {content: \"▸\";float: left;margin-right: 0.25em;color: #696969;}#sk-container-id-1 label.sk-toggleable__label-arrow:hover:before {color: black;}#sk-container-id-1 div.sk-estimator:hover label.sk-toggleable__label-arrow:before {color: black;}#sk-container-id-1 div.sk-toggleable__content {max-height: 0;max-width: 0;overflow: hidden;text-align: left;background-color: #f0f8ff;}#sk-container-id-1 div.sk-toggleable__content pre {margin: 0.2em;color: black;border-radius: 0.25em;background-color: #f0f8ff;}#sk-container-id-1 input.sk-toggleable__control:checked~div.sk-toggleable__content {max-height: 200px;max-width: 100%;overflow: auto;}#sk-container-id-1 input.sk-toggleable__control:checked~label.sk-toggleable__label-arrow:before {content: \"▾\";}#sk-container-id-1 div.sk-estimator input.sk-toggleable__control:checked~label.sk-toggleable__label {background-color: #d4ebff;}#sk-container-id-1 div.sk-label input.sk-toggleable__control:checked~label.sk-toggleable__label {background-color: #d4ebff;}#sk-container-id-1 input.sk-hidden--visually {border: 0;clip: rect(1px 1px 1px 1px);clip: rect(1px, 1px, 1px, 1px);height: 1px;margin: -1px;overflow: hidden;padding: 0;position: absolute;width: 1px;}#sk-container-id-1 div.sk-estimator {font-family: monospace;background-color: #f0f8ff;border: 1px dotted black;border-radius: 0.25em;box-sizing: border-box;margin-bottom: 0.5em;}#sk-container-id-1 div.sk-estimator:hover {background-color: #d4ebff;}#sk-container-id-1 div.sk-parallel-item::after {content: \"\";width: 100%;border-bottom: 1px solid gray;flex-grow: 1;}#sk-container-id-1 div.sk-label:hover label.sk-toggleable__label {background-color: #d4ebff;}#sk-container-id-1 div.sk-serial::before {content: \"\";position: absolute;border-left: 1px solid gray;box-sizing: border-box;top: 0;bottom: 0;left: 50%;z-index: 0;}#sk-container-id-1 div.sk-serial {display: flex;flex-direction: column;align-items: center;background-color: white;padding-right: 0.2em;padding-left: 0.2em;position: relative;}#sk-container-id-1 div.sk-item {position: relative;z-index: 1;}#sk-container-id-1 div.sk-parallel {display: flex;align-items: stretch;justify-content: center;background-color: white;position: relative;}#sk-container-id-1 div.sk-item::before, #sk-container-id-1 div.sk-parallel-item::before {content: \"\";position: absolute;border-left: 1px solid gray;box-sizing: border-box;top: 0;bottom: 0;left: 50%;z-index: -1;}#sk-container-id-1 div.sk-parallel-item {display: flex;flex-direction: column;z-index: 1;position: relative;background-color: white;}#sk-container-id-1 div.sk-parallel-item:first-child::after {align-self: flex-end;width: 50%;}#sk-container-id-1 div.sk-parallel-item:last-child::after {align-self: flex-start;width: 50%;}#sk-container-id-1 div.sk-parallel-item:only-child::after {width: 0;}#sk-container-id-1 div.sk-dashed-wrapped {border: 1px dashed gray;margin: 0 0.4em 0.5em 0.4em;box-sizing: border-box;padding-bottom: 0.4em;background-color: white;}#sk-container-id-1 div.sk-label label {font-family: monospace;font-weight: bold;display: inline-block;line-height: 1.2em;}#sk-container-id-1 div.sk-label-container {text-align: center;}#sk-container-id-1 div.sk-container {/* jupyter's `normalize.less` sets `[hidden] { display: none; }` but bootstrap.min.css set `[hidden] { display: none !important; }` so we also need the `!important` here to be able to override the default hidden behavior on the sphinx rendered scikit-learn.org. See: https://github.com/scikit-learn/scikit-learn/issues/21755 */display: inline-block !important;position: relative;}#sk-container-id-1 div.sk-text-repr-fallback {display: none;}</style><div id=\"sk-container-id-1\" class=\"sk-top-container\"><div class=\"sk-text-repr-fallback\"><pre>Pipeline(steps=[(&#x27;step1&#x27;,\n",
       "                 ColumnTransformer(remainder=&#x27;passthrough&#x27;,\n",
       "                                   transformers=[(&#x27;col_tnf&#x27;,\n",
       "                                                  OneHotEncoder(drop=&#x27;first&#x27;,\n",
       "                                                                handle_unknown=&#x27;ignore&#x27;,\n",
       "                                                                sparse_output=False),\n",
       "                                                  [0, 1, 2])])),\n",
       "                (&#x27;step2&#x27;,\n",
       "                 VotingRegressor(estimators=[(&#x27;rf&#x27;,\n",
       "                                              RandomForestRegressor(max_depth=15,\n",
       "                                                                    max_features=0.75,\n",
       "                                                                    max_samples=0.5,\n",
       "                                                                    n_estimators=350,\n",
       "                                                                    random_state=3)),\n",
       "                                             (&#x27;gbdt&#x27;,\n",
       "                                              GradientBoostingRegr...\n",
       "                                                           max_cat_to_onehot=None,\n",
       "                                                           max_delta_step=None,\n",
       "                                                           max_depth=5,\n",
       "                                                           max_leaves=None,\n",
       "                                                           min_child_weight=None,\n",
       "                                                           missing=nan,\n",
       "                                                           monotone_constraints=None,\n",
       "                                                           multi_strategy=None,\n",
       "                                                           n_estimators=25,\n",
       "                                                           n_jobs=None,\n",
       "                                                           num_parallel_tree=None,\n",
       "                                                           random_state=None, ...)),\n",
       "                                             (&#x27;et&#x27;,\n",
       "                                              ExtraTreesRegressor(bootstrap=True,\n",
       "                                                                  max_depth=10,\n",
       "                                                                  max_features=0.75,\n",
       "                                                                  max_samples=0.5,\n",
       "                                                                  random_state=3))],\n",
       "                                 weights=[5, 1, 1, 1]))])</pre><b>In a Jupyter environment, please rerun this cell to show the HTML representation or trust the notebook. <br />On GitHub, the HTML representation is unable to render, please try loading this page with nbviewer.org.</b></div><div class=\"sk-container\" hidden><div class=\"sk-item sk-dashed-wrapped\"><div class=\"sk-label-container\"><div class=\"sk-label sk-toggleable\"><input class=\"sk-toggleable__control sk-hidden--visually\" id=\"sk-estimator-id-1\" type=\"checkbox\" ><label for=\"sk-estimator-id-1\" class=\"sk-toggleable__label sk-toggleable__label-arrow\">Pipeline</label><div class=\"sk-toggleable__content\"><pre>Pipeline(steps=[(&#x27;step1&#x27;,\n",
       "                 ColumnTransformer(remainder=&#x27;passthrough&#x27;,\n",
       "                                   transformers=[(&#x27;col_tnf&#x27;,\n",
       "                                                  OneHotEncoder(drop=&#x27;first&#x27;,\n",
       "                                                                handle_unknown=&#x27;ignore&#x27;,\n",
       "                                                                sparse_output=False),\n",
       "                                                  [0, 1, 2])])),\n",
       "                (&#x27;step2&#x27;,\n",
       "                 VotingRegressor(estimators=[(&#x27;rf&#x27;,\n",
       "                                              RandomForestRegressor(max_depth=15,\n",
       "                                                                    max_features=0.75,\n",
       "                                                                    max_samples=0.5,\n",
       "                                                                    n_estimators=350,\n",
       "                                                                    random_state=3)),\n",
       "                                             (&#x27;gbdt&#x27;,\n",
       "                                              GradientBoostingRegr...\n",
       "                                                           max_cat_to_onehot=None,\n",
       "                                                           max_delta_step=None,\n",
       "                                                           max_depth=5,\n",
       "                                                           max_leaves=None,\n",
       "                                                           min_child_weight=None,\n",
       "                                                           missing=nan,\n",
       "                                                           monotone_constraints=None,\n",
       "                                                           multi_strategy=None,\n",
       "                                                           n_estimators=25,\n",
       "                                                           n_jobs=None,\n",
       "                                                           num_parallel_tree=None,\n",
       "                                                           random_state=None, ...)),\n",
       "                                             (&#x27;et&#x27;,\n",
       "                                              ExtraTreesRegressor(bootstrap=True,\n",
       "                                                                  max_depth=10,\n",
       "                                                                  max_features=0.75,\n",
       "                                                                  max_samples=0.5,\n",
       "                                                                  random_state=3))],\n",
       "                                 weights=[5, 1, 1, 1]))])</pre></div></div></div><div class=\"sk-serial\"><div class=\"sk-item sk-dashed-wrapped\"><div class=\"sk-label-container\"><div class=\"sk-label sk-toggleable\"><input class=\"sk-toggleable__control sk-hidden--visually\" id=\"sk-estimator-id-2\" type=\"checkbox\" ><label for=\"sk-estimator-id-2\" class=\"sk-toggleable__label sk-toggleable__label-arrow\">step1: ColumnTransformer</label><div class=\"sk-toggleable__content\"><pre>ColumnTransformer(remainder=&#x27;passthrough&#x27;,\n",
       "                  transformers=[(&#x27;col_tnf&#x27;,\n",
       "                                 OneHotEncoder(drop=&#x27;first&#x27;,\n",
       "                                               handle_unknown=&#x27;ignore&#x27;,\n",
       "                                               sparse_output=False),\n",
       "                                 [0, 1, 2])])</pre></div></div></div><div class=\"sk-parallel\"><div class=\"sk-parallel-item\"><div class=\"sk-item\"><div class=\"sk-label-container\"><div class=\"sk-label sk-toggleable\"><input class=\"sk-toggleable__control sk-hidden--visually\" id=\"sk-estimator-id-3\" type=\"checkbox\" ><label for=\"sk-estimator-id-3\" class=\"sk-toggleable__label sk-toggleable__label-arrow\">col_tnf</label><div class=\"sk-toggleable__content\"><pre>[0, 1, 2]</pre></div></div></div><div class=\"sk-serial\"><div class=\"sk-item\"><div class=\"sk-estimator sk-toggleable\"><input class=\"sk-toggleable__control sk-hidden--visually\" id=\"sk-estimator-id-4\" type=\"checkbox\" ><label for=\"sk-estimator-id-4\" class=\"sk-toggleable__label sk-toggleable__label-arrow\">OneHotEncoder</label><div class=\"sk-toggleable__content\"><pre>OneHotEncoder(drop=&#x27;first&#x27;, handle_unknown=&#x27;ignore&#x27;, sparse_output=False)</pre></div></div></div></div></div></div><div class=\"sk-parallel-item\"><div class=\"sk-item\"><div class=\"sk-label-container\"><div class=\"sk-label sk-toggleable\"><input class=\"sk-toggleable__control sk-hidden--visually\" id=\"sk-estimator-id-5\" type=\"checkbox\" ><label for=\"sk-estimator-id-5\" class=\"sk-toggleable__label sk-toggleable__label-arrow\">remainder</label><div class=\"sk-toggleable__content\"><pre>[&#x27;generation&#x27;, &#x27;ram&#x27;, &#x27;ssd&#x27;, &#x27;hdd&#x27;, &#x27;display&#x27;]</pre></div></div></div><div class=\"sk-serial\"><div class=\"sk-item\"><div class=\"sk-estimator sk-toggleable\"><input class=\"sk-toggleable__control sk-hidden--visually\" id=\"sk-estimator-id-6\" type=\"checkbox\" ><label for=\"sk-estimator-id-6\" class=\"sk-toggleable__label sk-toggleable__label-arrow\">passthrough</label><div class=\"sk-toggleable__content\"><pre>passthrough</pre></div></div></div></div></div></div></div></div><div class=\"sk-item sk-dashed-wrapped\"><div class=\"sk-label-container\"><div class=\"sk-label sk-toggleable\"><input class=\"sk-toggleable__control sk-hidden--visually\" id=\"sk-estimator-id-7\" type=\"checkbox\" ><label for=\"sk-estimator-id-7\" class=\"sk-toggleable__label sk-toggleable__label-arrow\">step2: VotingRegressor</label><div class=\"sk-toggleable__content\"><pre>VotingRegressor(estimators=[(&#x27;rf&#x27;,\n",
       "                             RandomForestRegressor(max_depth=15,\n",
       "                                                   max_features=0.75,\n",
       "                                                   max_samples=0.5,\n",
       "                                                   n_estimators=350,\n",
       "                                                   random_state=3)),\n",
       "                            (&#x27;gbdt&#x27;,\n",
       "                             GradientBoostingRegressor(max_features=0.5)),\n",
       "                            (&#x27;xgb&#x27;,\n",
       "                             XGBRegressor(base_score=None, booster=None,\n",
       "                                          callbacks=None,\n",
       "                                          colsample_bylevel=None,\n",
       "                                          colsample_bynode=None,\n",
       "                                          colsample_bytree=None, device=None,\n",
       "                                          early_stopping_ro...\n",
       "                                          max_cat_to_onehot=None,\n",
       "                                          max_delta_step=None, max_depth=5,\n",
       "                                          max_leaves=None,\n",
       "                                          min_child_weight=None, missing=nan,\n",
       "                                          monotone_constraints=None,\n",
       "                                          multi_strategy=None, n_estimators=25,\n",
       "                                          n_jobs=None, num_parallel_tree=None,\n",
       "                                          random_state=None, ...)),\n",
       "                            (&#x27;et&#x27;,\n",
       "                             ExtraTreesRegressor(bootstrap=True, max_depth=10,\n",
       "                                                 max_features=0.75,\n",
       "                                                 max_samples=0.5,\n",
       "                                                 random_state=3))],\n",
       "                weights=[5, 1, 1, 1])</pre></div></div></div><div class=\"sk-parallel\"><div class=\"sk-parallel-item\"><div class=\"sk-item\"><div class=\"sk-label-container\"><div class=\"sk-label sk-toggleable\"><label>rf</label></div></div><div class=\"sk-serial\"><div class=\"sk-item\"><div class=\"sk-estimator sk-toggleable\"><input class=\"sk-toggleable__control sk-hidden--visually\" id=\"sk-estimator-id-8\" type=\"checkbox\" ><label for=\"sk-estimator-id-8\" class=\"sk-toggleable__label sk-toggleable__label-arrow\">RandomForestRegressor</label><div class=\"sk-toggleable__content\"><pre>RandomForestRegressor(max_depth=15, max_features=0.75, max_samples=0.5,\n",
       "                      n_estimators=350, random_state=3)</pre></div></div></div></div></div></div><div class=\"sk-parallel-item\"><div class=\"sk-item\"><div class=\"sk-label-container\"><div class=\"sk-label sk-toggleable\"><label>gbdt</label></div></div><div class=\"sk-serial\"><div class=\"sk-item\"><div class=\"sk-estimator sk-toggleable\"><input class=\"sk-toggleable__control sk-hidden--visually\" id=\"sk-estimator-id-9\" type=\"checkbox\" ><label for=\"sk-estimator-id-9\" class=\"sk-toggleable__label sk-toggleable__label-arrow\">GradientBoostingRegressor</label><div class=\"sk-toggleable__content\"><pre>GradientBoostingRegressor(max_features=0.5)</pre></div></div></div></div></div></div><div class=\"sk-parallel-item\"><div class=\"sk-item\"><div class=\"sk-label-container\"><div class=\"sk-label sk-toggleable\"><label>xgb</label></div></div><div class=\"sk-serial\"><div class=\"sk-item\"><div class=\"sk-estimator sk-toggleable\"><input class=\"sk-toggleable__control sk-hidden--visually\" id=\"sk-estimator-id-10\" type=\"checkbox\" ><label for=\"sk-estimator-id-10\" class=\"sk-toggleable__label sk-toggleable__label-arrow\">XGBRegressor</label><div class=\"sk-toggleable__content\"><pre>XGBRegressor(base_score=None, booster=None, callbacks=None,\n",
       "             colsample_bylevel=None, colsample_bynode=None,\n",
       "             colsample_bytree=None, device=None, early_stopping_rounds=None,\n",
       "             enable_categorical=False, eval_metric=None, feature_types=None,\n",
       "             gamma=None, grow_policy=None, importance_type=None,\n",
       "             interaction_constraints=None, learning_rate=0.3, max_bin=None,\n",
       "             max_cat_threshold=None, max_cat_to_onehot=None,\n",
       "             max_delta_step=None, max_depth=5, max_leaves=None,\n",
       "             min_child_weight=None, missing=nan, monotone_constraints=None,\n",
       "             multi_strategy=None, n_estimators=25, n_jobs=None,\n",
       "             num_parallel_tree=None, random_state=None, ...)</pre></div></div></div></div></div></div><div class=\"sk-parallel-item\"><div class=\"sk-item\"><div class=\"sk-label-container\"><div class=\"sk-label sk-toggleable\"><label>et</label></div></div><div class=\"sk-serial\"><div class=\"sk-item\"><div class=\"sk-estimator sk-toggleable\"><input class=\"sk-toggleable__control sk-hidden--visually\" id=\"sk-estimator-id-11\" type=\"checkbox\" ><label for=\"sk-estimator-id-11\" class=\"sk-toggleable__label sk-toggleable__label-arrow\">ExtraTreesRegressor</label><div class=\"sk-toggleable__content\"><pre>ExtraTreesRegressor(bootstrap=True, max_depth=10, max_features=0.75,\n",
       "                    max_samples=0.5, random_state=3)</pre></div></div></div></div></div></div></div></div></div></div></div></div>"
      ],
      "text/plain": [
       "Pipeline(steps=[('step1',\n",
       "                 ColumnTransformer(remainder='passthrough',\n",
       "                                   transformers=[('col_tnf',\n",
       "                                                  OneHotEncoder(drop='first',\n",
       "                                                                handle_unknown='ignore',\n",
       "                                                                sparse_output=False),\n",
       "                                                  [0, 1, 2])])),\n",
       "                ('step2',\n",
       "                 VotingRegressor(estimators=[('rf',\n",
       "                                              RandomForestRegressor(max_depth=15,\n",
       "                                                                    max_features=0.75,\n",
       "                                                                    max_samples=0.5,\n",
       "                                                                    n_estimators=350,\n",
       "                                                                    random_state=3)),\n",
       "                                             ('gbdt',\n",
       "                                              GradientBoostingRegr...\n",
       "                                                           max_cat_to_onehot=None,\n",
       "                                                           max_delta_step=None,\n",
       "                                                           max_depth=5,\n",
       "                                                           max_leaves=None,\n",
       "                                                           min_child_weight=None,\n",
       "                                                           missing=nan,\n",
       "                                                           monotone_constraints=None,\n",
       "                                                           multi_strategy=None,\n",
       "                                                           n_estimators=25,\n",
       "                                                           n_jobs=None,\n",
       "                                                           num_parallel_tree=None,\n",
       "                                                           random_state=None, ...)),\n",
       "                                             ('et',\n",
       "                                              ExtraTreesRegressor(bootstrap=True,\n",
       "                                                                  max_depth=10,\n",
       "                                                                  max_features=0.75,\n",
       "                                                                  max_samples=0.5,\n",
       "                                                                  random_state=3))],\n",
       "                                 weights=[5, 1, 1, 1]))])"
      ]
     },
     "execution_count": 30,
     "metadata": {},
     "output_type": "execute_result"
    }
   ],
   "source": [
    "#voting regressor\n",
    "from sklearn.ensemble import VotingRegressor,StackingRegressor\n",
    "\n",
    "# step1 doing column transformation using one-hot-encoder in wihch dealing with categorical data  \n",
    "step1 = ColumnTransformer(transformers=[\n",
    "    ('col_tnf',OneHotEncoder(sparse_output=False,drop='first',handle_unknown='ignore'),[0,1,2])\n",
    "],remainder='passthrough')\n",
    "\n",
    "\n",
    "rf = RandomForestRegressor(n_estimators=350,random_state=3,max_samples=0.5,max_features=0.75,max_depth=15,bootstrap=True)\n",
    "gbdt = GradientBoostingRegressor(n_estimators=100,max_features=0.5)\n",
    "xgb = XGBRegressor(n_estimators=25,learning_rate=0.3,max_depth=5)\n",
    "et = ExtraTreesRegressor(n_estimators=100,random_state=3,max_samples=0.5,max_features=0.75,max_depth=10,bootstrap=True)\n",
    "\n",
    "# Define regression model\n",
    "step2 = VotingRegressor([('rf', rf), ('gbdt', gbdt), ('xgb',xgb), ('et',et)],weights=[5,1,1,1])\n",
    "\n",
    "# Creating a pipeline\n",
    "pipe = Pipeline([\n",
    "    ('step1',step1),\n",
    "    ('step2',step2)\n",
    "])\n",
    "\n",
    "#Fitting the pipeline to the training data\n",
    "pipe.fit(X_train,y_train)"
   ]
  },
  {
   "cell_type": "code",
   "execution_count": 32,
   "id": "f5b1d939",
   "metadata": {
    "scrolled": true
   },
   "outputs": [
    {
     "name": "stdout",
     "output_type": "stream",
     "text": [
      "Predictions for new data:\n",
      "58038.0 INR\n"
     ]
    }
   ],
   "source": [
    "#input values for prediction\n",
    "#kindly use lower case for the inputs because all the values are in lower case \n",
    "\n",
    "new_data = pd.DataFrame({\n",
    "    'name': ['hp'],\n",
    "    'os': ['windows 11'],\n",
    "    'processor': ['intel core i5'],\n",
    "    'generation':[11],\n",
    "    'ram': [8],\n",
    "    'ssd': [512],\n",
    "    'hdd': [0],\n",
    "    'display': [15.6]\n",
    "})\n",
    "\n",
    "# Make predictions on the new data\n",
    "new_data_predictions_log_scale = pipe.predict(new_data)\n",
    "\n",
    "# Convert new data predictions back to the original scale\n",
    "new_data_predictions_original_scale = np.exp(new_data_predictions_log_scale).round()\n",
    "\n",
    "\n",
    "# Display the predictions for new data\n",
    "print(\"Predictions for new data:\") \n",
    "print(f\"{new_data_predictions_original_scale[0]} INR\")"
   ]
  },
  {
   "cell_type": "markdown",
   "id": "f9d37c1d",
   "metadata": {},
   "source": [
    "### Storing Model and Data: \n",
    "- #### To facilitate future predictions, both the trained Voting Regressor model and the dataset are saved in a Pickle (.pkl) file for later use.\n"
   ]
  },
  {
   "cell_type": "code",
   "execution_count": 33,
   "id": "aad4447f",
   "metadata": {},
   "outputs": [],
   "source": [
    "import pickle\n",
    "\n",
    "pickle.dump(df,open('df.pkl','wb')) #saving data into pkl file\n",
    "pickle.dump(pipe,open('pipe.pkl','wb')) #saving final model in pkl file"
   ]
  },
  {
   "cell_type": "markdown",
   "id": "f6bbe2f2",
   "metadata": {},
   "source": [
    "Model is working properly and predictions are close to the original price of the product."
   ]
  },
  {
   "cell_type": "code",
   "execution_count": null,
   "id": "9394c8fb",
   "metadata": {},
   "outputs": [],
   "source": []
  }
 ],
 "metadata": {
  "kernelspec": {
   "display_name": "Python 3 (ipykernel)",
   "language": "python",
   "name": "python3"
  },
  "language_info": {
   "codemirror_mode": {
    "name": "ipython",
    "version": 3
   },
   "file_extension": ".py",
   "mimetype": "text/x-python",
   "name": "python",
   "nbconvert_exporter": "python",
   "pygments_lexer": "ipython3",
   "version": "3.11.5"
  }
 },
 "nbformat": 4,
 "nbformat_minor": 5
}
